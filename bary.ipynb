{
 "cells": [
  {
   "cell_type": "markdown",
   "metadata": {},
   "source": [
    "Barycentre"
   ]
  },
  {
   "cell_type": "code",
   "execution_count": null,
   "metadata": {},
   "outputs": [],
   "source": [
    "def coordonnee_barycentre():\n",
    "    n=int(input('nombre de points ?'))\n",
    "    l=[]\n",
    "    s=0\n",
    "    for i in range(n):\n",
    "        print('coordonnées du point',i,'?')\n",
    "        a=[]\n",
    "        for j in range(3):\n",
    "            a+=[float(input())]\n",
    "        a+=[float(input('coefficient du point ?'))]\n",
    "        s+=a[3]\n",
    "        l+=[a]\n",
    "    print(l)\n",
    "    print(s)\n",
    "    if s!=0:\n",
    "        m=[]\n",
    "        for i in range(3):\n",
    "            c=l[0][i]\n",
    "            for j in range(1,n):\n",
    "                c+=l[j][3]*(l[j][i]-l[0][i])/s\n",
    "            m+=[c]\n",
    "    return(m)"
   ]
  },
  {
   "cell_type": "code",
   "execution_count": null,
   "metadata": {},
   "outputs": [],
   "source": []
  }
 ],
 "metadata": {
  "kernelspec": {
   "display_name": "Python 3",
   "language": "python",
   "name": "python3"
  },
  "language_info": {
   "codemirror_mode": {
    "name": "ipython",
    "version": 3
   },
   "file_extension": ".py",
   "mimetype": "text/x-python",
   "name": "python",
   "nbconvert_exporter": "python",
   "pygments_lexer": "ipython3",
   "version": "3.7.6"
  }
 },
 "nbformat": 4,
 "nbformat_minor": 4
}
